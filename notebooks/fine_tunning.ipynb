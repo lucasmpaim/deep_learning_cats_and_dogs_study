{
 "cells": [
  {
   "cell_type": "code",
   "execution_count": 32,
   "metadata": {
    "pycharm": {
     "is_executing": true
    }
   },
   "outputs": [],
   "source": [
    "import tensorflow as tf\n",
    "import os\n",
    "import numpy as np\n",
    "import cv2\n",
    "from sklearn.metrics import confusion_matrix\n",
    "import matplotlib.pyplot as plt\n",
    "from tensorflow.keras.applications.inception_v3 import preprocess_input\n",
    "from keras_preprocessing import image\n",
    "import pandas as pd\n",
    "from tqdm import tqdm\n",
    "import seaborn as sns\n",
    "from tensorflow.keras import layers\n",
    "from tensorflow.keras.callbacks import EarlyStopping\n",
    "\n",
    "current_path = os.path.join(os.getcwd(), '..')\n",
    "base_path = f'{current_path}/data/raw/cats_and_dogs_filtered'\n",
    "train_path = os.path.join(f'{base_path}/train/')\n",
    "validation_path = os.path.join(f'{base_path}/validation/')\n",
    "\n",
    "try:\n",
    "    os.mkdir(f'{current_path}/data/processed')\n",
    "except Exception:\n",
    "    pass"
   ]
  },
  {
   "cell_type": "code",
   "execution_count": 4,
   "metadata": {
    "pycharm": {
     "name": "#%%\n"
    }
   },
   "outputs": [],
   "source": [
    "# (train / validation)\n",
    "dogs_dataset = (os.path.join(train_path, 'dogs'),\n",
    "                os.path.join(validation_path, 'dogs'))\n",
    "cats_dataset = (os.path.join(train_path, 'cats'),\n",
    "                os.path.join(validation_path, 'cats'))\n",
    "\n"
   ]
  },
  {
   "cell_type": "code",
   "execution_count": 5,
   "metadata": {
    "pycharm": {
     "name": "#%%\n"
    }
   },
   "outputs": [
    {
     "name": "stdout",
     "output_type": "stream",
     "text": [
      "Downloading data from https://github.com/fchollet/deep-learning-models/releases/download/v0.4/xception_weights_tf_dim_ordering_tf_kernels_notop.h5\n",
      "83689472/83683744 [==============================] - 74s 1us/step\n"
     ]
    }
   ],
   "source": [
    "# Create the base model from the pre-trained model MobileNet V2\n",
    "xception = tf.keras.applications.Xception(include_top=False,\n",
    "                                        weights='imagenet',\n",
    "                                        pooling='avg')\n"
   ]
  },
  {
   "cell_type": "code",
   "execution_count": 6,
   "metadata": {
    "pycharm": {
     "name": "#%%\n"
    }
   },
   "outputs": [],
   "source": [
    "model = tf.keras.Sequential()\n",
    "model.add(xception)\n",
    "model.add(layers.Flatten())\n",
    "model.add(layers.Dense(1024, activation='relu'))\n",
    "model.add(layers.Dropout(0.5))\n",
    "model.add(layers.Dense(2, activation='softmax'))\n"
   ]
  },
  {
   "cell_type": "code",
   "execution_count": 7,
   "metadata": {},
   "outputs": [
    {
     "name": "stdout",
     "output_type": "stream",
     "text": [
      "Model: \"sequential\"\n",
      "_________________________________________________________________\n",
      "Layer (type)                 Output Shape              Param #   \n",
      "=================================================================\n",
      "xception (Model)             (None, 2048)              20861480  \n",
      "_________________________________________________________________\n",
      "flatten (Flatten)            (None, 2048)              0         \n",
      "_________________________________________________________________\n",
      "dense (Dense)                (None, 1024)              2098176   \n",
      "_________________________________________________________________\n",
      "dropout (Dropout)            (None, 1024)              0         \n",
      "_________________________________________________________________\n",
      "dense_1 (Dense)              (None, 2)                 2050      \n",
      "=================================================================\n",
      "Total params: 22,961,706\n",
      "Trainable params: 2,100,226\n",
      "Non-trainable params: 20,861,480\n",
      "_________________________________________________________________\n"
     ]
    }
   ],
   "source": [
    "for layer in model.layers[:-4]:\n",
    "    layer.trainable = False\n",
    "model.compile(loss=tf.keras.losses.categorical_crossentropy, optimizer='adam', metrics=['accuracy'])\n",
    "model.summary()\n"
   ]
  },
  {
   "cell_type": "code",
   "execution_count": 8,
   "metadata": {},
   "outputs": [
    {
     "name": "stderr",
     "output_type": "stream",
     "text": [
      "100%|██████████| 1000/1000 [00:14<00:00, 68.94it/s]\n",
      "100%|██████████| 1000/1000 [00:10<00:00, 92.12it/s]\n",
      "100%|██████████| 500/500 [00:06<00:00, 80.98it/s] \n",
      "100%|██████████| 500/500 [00:05<00:00, 95.06it/s] \n"
     ]
    }
   ],
   "source": [
    "def extract_features(img_dir, label):\n",
    "    img = cv2.imread(img_dir)\n",
    "    img = cv2.resize(img, (299, 299))\n",
    "    return [preprocess_input(img), label]\n",
    "\n",
    "def extract_data(dataset, label):\n",
    "    features = []\n",
    "    for img_path in tqdm(os.listdir(dataset)):\n",
    "        img_dir = os.path.join(dataset, img_path)\n",
    "        features.append(extract_features(img_dir, label))\n",
    "    return features\n",
    "\n",
    "train_dataset = pd.concat([pd.DataFrame(x) for x in [\n",
    "    extract_data(dogs_dataset[0], 'dog'),\n",
    "    extract_data(cats_dataset[0], 'cat')\n",
    "]])\n",
    "\n",
    "\n",
    "val_dataset = pd.concat([pd.DataFrame(x) for x in [\n",
    "    extract_data(dogs_dataset[1], 'dog'),\n",
    "    extract_data(cats_dataset[1], 'cat')\n",
    "]])"
   ]
  },
  {
   "cell_type": "code",
   "execution_count": 9,
   "metadata": {},
   "outputs": [],
   "source": [
    "\n",
    "def fix_X_array(raw_data):\n",
    "    return np.concatenate(raw_data).reshape((raw_data.shape[0], 299, 299, 3))\n",
    "\n",
    "def fix_Y_array(raw_data):\n",
    "    ravel = np.ravel(raw_data.iloc[:,1:].to_numpy())\n",
    "    y_labels = []\n",
    "    for y in ravel:\n",
    "        y_labels.append(1 if y == 'dog' else 0)\n",
    "    return np.array(y_labels)\n",
    "\n",
    "X_train = fix_X_array((train_dataset.iloc[:,0]).to_numpy())\n",
    "y_train = tf.keras.utils.to_categorical(fix_Y_array(train_dataset))\n",
    "\n",
    "X_val = fix_X_array((val_dataset.iloc[:,0]).to_numpy())\n",
    "y_val = tf.keras.utils.to_categorical(fix_Y_array(val_dataset))\n"
   ]
  },
  {
   "cell_type": "code",
   "execution_count": 10,
   "metadata": {},
   "outputs": [
    {
     "data": {
      "text/plain": [
       "(2000, 299, 299, 3)"
      ]
     },
     "execution_count": 10,
     "metadata": {},
     "output_type": "execute_result"
    }
   ],
   "source": [
    "X_train.shape"
   ]
  },
  {
   "cell_type": "code",
   "execution_count": 11,
   "metadata": {
    "pycharm": {
     "name": "#%%\n"
    }
   },
   "outputs": [
    {
     "data": {
      "text/plain": [
       "(1000, 299, 299, 3)"
      ]
     },
     "execution_count": 11,
     "metadata": {},
     "output_type": "execute_result"
    }
   ],
   "source": [
    "X_val.shape"
   ]
  },
  {
   "cell_type": "code",
   "execution_count": 12,
   "metadata": {
    "pycharm": {
     "name": "#%%\n"
    }
   },
   "outputs": [
    {
     "name": "stderr",
     "output_type": "stream",
     "text": [
      "/Users/lucaspaim/deep_learning_cats_and_dogs_study/venv/lib/python3.7/site-packages/ipykernel_launcher.py:1: FutureWarning: elementwise comparison failed; returning scalar instead, but in the future will perform elementwise comparison\n",
      "  \"\"\"Entry point for launching an IPython kernel.\n",
      "/Users/lucaspaim/deep_learning_cats_and_dogs_study/venv/lib/python3.7/site-packages/ipykernel_launcher.py:2: FutureWarning: elementwise comparison failed; returning scalar instead, but in the future will perform elementwise comparison\n",
      "  \n"
     ]
    },
    {
     "name": "stdout",
     "output_type": "stream",
     "text": [
      "Train on 1600 samples, validate on 400 samples\n",
      "Epoch 1/5\n",
      "1600/1600 [==============================] - 1476s 922ms/sample - loss: 0.1936 - accuracy: 0.9137 - val_loss: 0.0140 - val_accuracy: 0.9950\n",
      "Epoch 2/5\n",
      "1600/1600 [==============================] - 1217s 761ms/sample - loss: 0.0898 - accuracy: 0.9744 - val_loss: 0.0230 - val_accuracy: 0.9950\n",
      "Epoch 3/5\n",
      "1600/1600 [==============================] - 2011s 1s/sample - loss: 0.0218 - accuracy: 0.9944 - val_loss: 0.0225 - val_accuracy: 0.9950\n",
      "Epoch 4/5\n",
      "1600/1600 [==============================] - 1864s 1s/sample - loss: 0.0108 - accuracy: 0.9962 - val_loss: 0.0198 - val_accuracy: 0.9950\n",
      "Epoch 5/5\n",
      "1600/1600 [==============================] - 1533s 958ms/sample - loss: 0.0115 - accuracy: 0.9956 - val_loss: 0.0311 - val_accuracy: 0.9950\n"
     ]
    },
    {
     "data": {
      "text/plain": [
       "<tensorflow.python.keras.callbacks.History at 0x13e6f7e50>"
      ]
     },
     "execution_count": 12,
     "metadata": {},
     "output_type": "execute_result"
    }
   ],
   "source": [
    "train_Y_df = pd.DataFrame('cat' if 'cat.' in Y else 'dog' for Y in train_dataset.loc[:, 0])\n",
    "validation_Y_df = pd.DataFrame('cat' if 'cat.' in Y else 'dog' for Y in val_dataset.loc[:, 0])\n",
    "\n",
    "model.fit(X_train, y_train,\n",
    "         batch_size=128,\n",
    "          epochs=5,\n",
    "          verbose=1,\n",
    "          validation_split=0.2)\n"
   ]
  },
  {
   "cell_type": "code",
   "execution_count": 17,
   "metadata": {},
   "outputs": [],
   "source": [
    "# acc = model.score(X_val, y_val)\n",
    "# print(f'Acurácia Fine Tunning Validação: {acc}')\n",
    "\n",
    "all_classes = ['cat', 'dog']\n",
    "predictions = model.predict(X_val)\n"
   ]
  },
  {
   "cell_type": "code",
   "execution_count": 31,
   "metadata": {},
   "outputs": [
    {
     "name": "stdout",
     "output_type": "stream",
     "text": [
      "Final Accuracy: > 99.400\n"
     ]
    }
   ],
   "source": [
    "# evaluate model\n",
    "_, acc = model.evaluate(X_val, y_val, verbose=0)\n",
    "print('Final Accuracy: > %.3f' % (acc * 100.0))\n"
   ]
  },
  {
   "cell_type": "code",
   "execution_count": 28,
   "metadata": {},
   "outputs": [
    {
     "data": {
      "text/plain": [
       "array([[0., 1.],\n",
       "       [0., 1.],\n",
       "       [0., 1.],\n",
       "       ...,\n",
       "       [1., 0.],\n",
       "       [1., 0.],\n",
       "       [1., 0.]], dtype=float32)"
      ]
     },
     "execution_count": 28,
     "metadata": {},
     "output_type": "execute_result"
    }
   ],
   "source": [
    "predictions\n",
    "y_pred = (predictions > 0.5) \n",
    "y_pred"
   ]
  },
  {
   "cell_type": "code",
   "execution_count": 33,
   "metadata": {},
   "outputs": [
    {
     "data": {
      "image/png": "[encoded data removed]",
      "text/plain": [
       "<Figure size 432x288 with 2 Axes>"
      ]
     },
     "metadata": {
      "needs_background": "light"
     },
     "output_type": "display_data"
    }
   ],
   "source": [
    "cm = confusion_matrix(np.argmax(y_val, axis=1), np.argmax(y_pred, axis=1))\n",
    "df_cm = pd.DataFrame(cm, index=[all_classes], columns=all_classes)\n",
    "sns.heatmap(df_cm, annot=True)\n",
    "plt.title(f'Confusion Matrix --> Fine Tunning')\n",
    "plt.ylabel('True label')\n",
    "plt.xlabel('Predicted label')\n",
    "plt.show()"
   ]
  },
  {
   "cell_type": "code",
   "execution_count": null,
   "metadata": {},
   "outputs": [],
   "source": []
  },
  {
   "cell_type": "code",
   "execution_count": null,
   "metadata": {},
   "outputs": [],
   "source": []
  }
 ],
 "metadata": {
  "kernelspec": {
   "display_name": "Python 3",
   "language": "python",
   "name": "python3"
  },
  "language_info": {
   "codemirror_mode": {
    "name": "ipython",
    "version": 3
   },
   "file_extension": ".py",
   "mimetype": "text/x-python",
   "name": "python",
   "nbconvert_exporter": "python",
   "pygments_lexer": "ipython3",
   "version": "3.7.6"
  },
  "pycharm": {
   "stem_cell": {
    "cell_type": "raw",
    "metadata": {
     "collapsed": false
    },
    "source": []
   }
  }
 },
 "nbformat": 4,
 "nbformat_minor": 1
}
