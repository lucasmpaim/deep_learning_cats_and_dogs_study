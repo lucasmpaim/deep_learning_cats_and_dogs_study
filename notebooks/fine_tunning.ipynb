{
 "cells": [
  {
   "cell_type": "code",
   "execution_count": 2,
   "metadata": {
    "pycharm": {
     "is_executing": false
    }
   },
   "outputs": [],
   "source": [
    "import tensorflow as tf\n",
    "import os\n",
    "import numpy as np\n",
    "import cv2\n",
    "from tensorflow.keras.applications.inception_v3 import preprocess_input\n",
    "from keras_preprocessing import image\n",
    "import pandas as pd\n",
    "from tqdm import tqdm\n",
    "from threading import Thread\n",
    "import seaborn as sns\n",
    "from tensorflow.keras import layers\n",
    "from tensorflow.keras.callbacks import EarlyStopping\n",
    "\n",
    "current_path = os.path.join(os.getcwd(), '..')\n",
    "base_path = f'{current_path}/data/raw/cats_and_dogs_filtered'\n",
    "train_path = os.path.join(f'{base_path}/train/')\n",
    "validation_path = os.path.join(f'{base_path}/validation/')\n",
    "\n",
    "try:\n",
    "    os.mkdir(f'{current_path}/data/processed')\n",
    "except Exception:\n",
    "    pass"
   ]
  },
  {
   "cell_type": "code",
   "execution_count": 3,
   "metadata": {
    "pycharm": {
     "name": "#%%\n"
    }
   },
   "outputs": [],
   "source": [
    "# (train / validation)\n",
    "dogs_dataset = (os.path.join(train_path, 'dogs'),\n",
    "                os.path.join(validation_path, 'dogs'))\n",
    "cats_dataset = (os.path.join(train_path, 'cats'),\n",
    "                os.path.join(validation_path, 'cats'))\n",
    "\n"
   ]
  },
  {
   "cell_type": "code",
   "execution_count": 4,
   "metadata": {
    "pycharm": {
     "name": "#%%\n"
    }
   },
   "outputs": [],
   "source": [
    "# Create the base model from the pre-trained model MobileNet V2\n",
    "xception = tf.keras.applications.Xception(include_top=False,\n",
    "                                        weights='imagenet',\n",
    "                                        pooling='avg')\n"
   ]
  },
  {
   "cell_type": "code",
   "execution_count": 14,
   "metadata": {
    "pycharm": {
     "name": "#%%\n"
    }
   },
   "outputs": [],
   "source": [
    "model = tf.keras.Sequential()\n",
    "model.add(xception)\n",
    "model.add(layers.Flatten())\n",
    "model.add(layers.Dense(1024, activation='relu'))\n",
    "model.add(layers.Dropout(0.5))\n",
    "model.add(layers.Dense(2, activation='softmax'))\n"
   ]
  },
  {
   "cell_type": "code",
   "execution_count": 15,
   "metadata": {},
   "outputs": [
    {
     "name": "stdout",
     "output_type": "stream",
     "text": [
      "Model: \"sequential_1\"\n",
      "_________________________________________________________________\n",
      "Layer (type)                 Output Shape              Param #   \n",
      "=================================================================\n",
      "xception (Model)             (None, 2048)              20861480  \n",
      "_________________________________________________________________\n",
      "flatten_1 (Flatten)          (None, 2048)              0         \n",
      "_________________________________________________________________\n",
      "dense_2 (Dense)              (None, 1024)              2098176   \n",
      "_________________________________________________________________\n",
      "dropout_1 (Dropout)          (None, 1024)              0         \n",
      "_________________________________________________________________\n",
      "dense_3 (Dense)              (None, 2)                 2050      \n",
      "=================================================================\n",
      "Total params: 22,961,706\n",
      "Trainable params: 2,100,226\n",
      "Non-trainable params: 20,861,480\n",
      "_________________________________________________________________\n"
     ]
    }
   ],
   "source": [
    "for layer in model.layers[:-4]:\n",
    "    layer.trainable = False\n",
    "model.compile(loss=tf.keras.losses.categorical_crossentropy, optimizer='adam', metrics=['accuracy'])\n",
    "model.summary()\n"
   ]
  },
  {
   "cell_type": "code",
   "execution_count": 7,
   "metadata": {},
   "outputs": [
    {
     "name": "stderr",
     "output_type": "stream",
     "text": [
      "100%|██████████| 1000/1000 [00:10<00:00, 96.46it/s]\n",
      "100%|██████████| 1000/1000 [00:10<00:00, 93.00it/s]\n",
      "100%|██████████| 500/500 [00:05<00:00, 88.71it/s]\n",
      "100%|██████████| 500/500 [00:05<00:00, 89.56it/s] \n"
     ]
    }
   ],
   "source": [
    "def extract_features(img_dir, label):\n",
    "    img = cv2.imread(img_dir)\n",
    "    img = cv2.resize(img, (299, 299))\n",
    "    return [preprocess_input(img), label]\n",
    "\n",
    "def extract_data(dataset, label):\n",
    "    features = []\n",
    "    for img_path in tqdm(os.listdir(dataset)):\n",
    "        img_dir = os.path.join(dataset, img_path)\n",
    "        features.append(extract_features(img_dir, label))\n",
    "    return features\n",
    "\n",
    "train_dataset = pd.concat([pd.DataFrame(x) for x in [\n",
    "    extract_data(dogs_dataset[0], 'dog'),\n",
    "    extract_data(cats_dataset[0], 'cat')\n",
    "]])\n",
    "\n",
    "\n",
    "val_dataset = pd.concat([pd.DataFrame(x) for x in [\n",
    "    extract_data(dogs_dataset[1], 'dog'),\n",
    "    extract_data(cats_dataset[1], 'cat')\n",
    "]])"
   ]
  },
  {
   "cell_type": "code",
   "execution_count": 8,
   "metadata": {},
   "outputs": [],
   "source": [
    "\n",
    "def fix_X_array(raw_data):\n",
    "    return np.concatenate(raw_data).reshape((raw_data.shape[0], 299, 299, 3))\n",
    "\n",
    "def fix_Y_array(raw_data):\n",
    "    ravel = np.ravel(raw_data.iloc[:,1:].to_numpy())\n",
    "    y_labels = []\n",
    "    for y in ravel:\n",
    "        y_labels.append(1 if y == 'dog' else 0)\n",
    "    return np.array(y_labels)\n",
    "\n",
    "X_train = fix_X_array((train_dataset.iloc[:,0]).to_numpy())\n",
    "y_train = tf.keras.utils.to_categorical(fix_Y_array(train_dataset))\n",
    "\n",
    "X_val = fix_X_array((val_dataset.iloc[:,0]).to_numpy())\n",
    "y_val = tf.keras.utils.to_categorical(fix_Y_array(val_dataset))\n"
   ]
  },
  {
   "cell_type": "code",
   "execution_count": 9,
   "metadata": {},
   "outputs": [
    {
     "data": {
      "text/plain": [
       "(2000, 299, 299, 3)"
      ]
     },
     "execution_count": 9,
     "metadata": {},
     "output_type": "execute_result"
    }
   ],
   "source": [
    "X_train.shape"
   ]
  },
  {
   "cell_type": "code",
   "execution_count": 10,
   "metadata": {
    "pycharm": {
     "name": "#%%\n"
    }
   },
   "outputs": [
    {
     "data": {
      "text/plain": [
       "(1000, 299, 299, 3)"
      ]
     },
     "execution_count": 10,
     "metadata": {},
     "output_type": "execute_result"
    }
   ],
   "source": [
    "X_val.shape"
   ]
  },
  {
   "cell_type": "code",
   "execution_count": null,
   "metadata": {
    "pycharm": {
     "name": "#%%\n"
    }
   },
   "outputs": [
    {
     "name": "stderr",
     "output_type": "stream",
     "text": [
      "/Users/lucaspaim/PycharmProjects/deep_learning_cats_dogs/venv/lib/python3.7/site-packages/ipykernel_launcher.py:1: FutureWarning: elementwise comparison failed; returning scalar instead, but in the future will perform elementwise comparison\n",
      "  \"\"\"Entry point for launching an IPython kernel.\n",
      "/Users/lucaspaim/PycharmProjects/deep_learning_cats_dogs/venv/lib/python3.7/site-packages/ipykernel_launcher.py:2: FutureWarning: elementwise comparison failed; returning scalar instead, but in the future will perform elementwise comparison\n",
      "  \n"
     ]
    },
    {
     "name": "stdout",
     "output_type": "stream",
     "text": [
      "Train on 1600 samples, validate on 400 samples\n",
      "Epoch 1/5\n",
      "1600/1600 [==============================] - 1415s 884ms/sample - loss: 0.0148 - accuracy: 0.9944 - val_loss: 0.0218 - val_accuracy: 0.9950\n",
      "Epoch 2/5\n",
      "1600/1600 [==============================] - 1481s 926ms/sample - loss: 0.0157 - accuracy: 0.9919 - val_loss: 0.0203 - val_accuracy: 0.9950\n",
      "Epoch 3/5\n",
      "1536/1600 [===========================>..] - ETA: 54s - loss: 0.0140 - accuracy: 0.9974 "
     ]
    }
   ],
   "source": [
    "train_Y_df = pd.DataFrame('cat' if 'cat.' in Y else 'dog' for Y in train_dataset.loc[:, 0])\n",
    "validation_Y_df = pd.DataFrame('cat' if 'cat.' in Y else 'dog' for Y in val_dataset.loc[:, 0])\n",
    "\n",
    "model.fit(X_train, y_train,\n",
    "         batch_size=128,\n",
    "          epochs=5,\n",
    "          verbose=1,\n",
    "          validation_split=0.2)\n"
   ]
  },
  {
   "cell_type": "code",
   "execution_count": null,
   "metadata": {},
   "outputs": [],
   "source": []
  }
 ],
 "metadata": {
  "kernelspec": {
   "display_name": "Python 3",
   "language": "python",
   "name": "python3"
  },
  "language_info": {
   "codemirror_mode": {
    "name": "ipython",
    "version": 3
   },
   "file_extension": ".py",
   "mimetype": "text/x-python",
   "name": "python",
   "nbconvert_exporter": "python",
   "pygments_lexer": "ipython3",
   "version": "3.7.6"
  },
  "pycharm": {
   "stem_cell": {
    "cell_type": "raw",
    "metadata": {
     "collapsed": false
    },
    "source": []
   }
  }
 },
 "nbformat": 4,
 "nbformat_minor": 1
}
