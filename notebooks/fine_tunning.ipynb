{
 "cells": [
  {
   "cell_type": "code",
   "execution_count": 18,
   "metadata": {},
   "outputs": [],
   "source": [
    "import tensorflow as tf\n",
    "import os\n",
    "import numpy as np\n",
    "import cv2\n",
    "from tensorflow.keras.applications.inception_v3 import preprocess_input\n",
    "from keras_preprocessing import image\n",
    "import pandas as pd\n",
    "from tqdm import tqdm\n",
    "from threading import Thread\n",
    "import seaborn as sns\n",
    "from tensorflow.keras import layers\n",
    "from tensorflow.keras.callbacks import EarlyStopping\n",
    "\n",
    "current_path = os.path.join(os.getcwd(), '..')\n",
    "base_path = f'{current_path}/data/raw/cats_and_dogs_filtered'\n",
    "train_path = os.path.join(f'{base_path}/train/')\n",
    "validation_path = os.path.join(f'{base_path}/validation/')\n",
    "\n",
    "try:\n",
    "    os.mkdir(f'{current_path}/data/processed')\n",
    "except Exception:\n",
    "    pass"
   ]
  },
  {
   "cell_type": "code",
   "execution_count": 8,
   "metadata": {
    "pycharm": {
     "name": "#%%\n"
    }
   },
   "outputs": [],
   "source": [
    "# (train / validation)\n",
    "dogs_dataset = (os.path.join(train_path, 'dogs'),\n",
    "                os.path.join(validation_path, 'dogs'))\n",
    "cats_dataset = (os.path.join(train_path, 'cats'),\n",
    "                os.path.join(validation_path, 'cats'))\n",
    "\n"
   ]
  },
  {
   "cell_type": "code",
   "execution_count": 11,
   "metadata": {
    "pycharm": {
     "name": "#%%\n"
    }
   },
   "outputs": [],
   "source": [
    "# Create the base model from the pre-trained model MobileNet V2\n",
    "xception = tf.keras.applications.Xception(include_top=False,\n",
    "                                        weights='imagenet',\n",
    "                                        pooling='avg')\n"
   ]
  },
  {
   "cell_type": "code",
   "execution_count": 14,
   "metadata": {
    "pycharm": {
     "name": "#%%\n"
    }
   },
   "outputs": [],
   "source": [
    "model = tf.keras.Sequential()\n",
    "model.add(xception)\n",
    "model.add(layers.Flatten())\n",
    "model.add(layers.Dense(1024, activation='relu'))\n",
    "model.add(layers.Dropout(0.5))\n",
    "model.add(layers.Dense(10, activation='softmax'))\n"
   ]
  },
  {
   "cell_type": "code",
   "execution_count": 122,
   "metadata": {},
   "outputs": [],
   "source": [
    "for layer in model.layers[:-4]:\n",
    "    layer.trainable = False\n",
    "model.compile(loss=tf.keras.losses.categorical_crossentropy, optimizer='adam', metrics=['accuracy'])\n",
    "\n"
   ]
  },
  {
   "cell_type": "code",
   "execution_count": 51,
   "metadata": {},
   "outputs": [
    {
     "name": "stderr",
     "output_type": "stream",
     "text": [
      "100%|██████████| 1000/1000 [00:10<00:00, 98.95it/s]\n",
      "100%|██████████| 1000/1000 [00:09<00:00, 102.61it/s]\n",
      "100%|██████████| 500/500 [00:04<00:00, 100.49it/s]\n",
      "100%|██████████| 500/500 [00:04<00:00, 115.37it/s]\n"
     ]
    }
   ],
   "source": [
    "def extract_features(img_dir, label):\n",
    "    img = cv2.imread(img_dir)\n",
    "    img = cv2.resize(img, (299, 299))\n",
    "    return [preprocess_input(img), label]\n",
    "\n",
    "def extract_data(dataset, label):\n",
    "    features = []\n",
    "    for img_path in tqdm(os.listdir(dataset)):\n",
    "        img_dir = os.path.join(dataset, img_path)\n",
    "        features.append(extract_features(img_dir, label))\n",
    "    return features\n",
    "\n",
    "train_dataset = pd.concat([pd.DataFrame(x) for x in [\n",
    "    extract_data(dogs_dataset[0], 'dog'),\n",
    "    extract_data(cats_dataset[0], 'cat')\n",
    "]])\n",
    "\n",
    "\n",
    "val_dataset = pd.concat([pd.DataFrame(x) for x in [\n",
    "    extract_data(dogs_dataset[1], 'dog'),\n",
    "    extract_data(cats_dataset[1], 'cat')\n",
    "]])"
   ]
  },
  {
   "cell_type": "code",
   "execution_count": 105,
   "metadata": {},
   "outputs": [],
   "source": [
    "\n",
    "def fix_X_array(raw_data):\n",
    "    return np.concatenate(raw_data).reshape((raw_data.shape[0], 299, 299, 3))\n",
    "\n",
    "def fix_Y_array(raw_data):\n",
    "    ravel = np.ravel(raw_data.iloc[:,1:].to_numpy())\n",
    "    y_labels = []\n",
    "    for y in ravel:\n",
    "        y_labels.append(1 if y == 'dog' else 0)\n",
    "    return np.array(y_labels)\n",
    "\n",
    "X_train = fix_X_array((train_dataset.iloc[:,0]).to_numpy())\n",
    "y_train = tf.keras.utils.to_categorical(fix_Y_array(train_dataset))\n",
    "\n",
    "X_val = fix_X_array((val_dataset.iloc[:,0]).to_numpy())\n",
    "y_val = tf.keras.utils.to_categorical(fix_Y_array(val_dataset))\n"
   ]
  },
  {
   "cell_type": "code",
   "execution_count": 88,
   "metadata": {},
   "outputs": [
    {
     "data": {
      "text/plain": [
       "(2000, 299, 299, 3)"
      ]
     },
     "execution_count": 88,
     "metadata": {},
     "output_type": "execute_result"
    }
   ],
   "source": [
    "X_train.shape"
   ]
  },
  {
   "cell_type": "code",
   "execution_count": null,
   "metadata": {
    "pycharm": {
     "name": "#%%\n"
    }
   },
   "outputs": [],
   "source": [
    "X_val.shape"
   ]
  },
  {
   "cell_type": "code",
   "execution_count": null,
   "metadata": {
    "pycharm": {
     "name": "#%%\n"
    }
   },
   "outputs": [],
   "source": [
    "train_Y_df = pd.DataFrame('cat' if 'cat.' in Y else 'dog' for Y in train_dataset.loc[:, 0])\n",
    "validation_Y_df = pd.DataFrame('cat' if 'cat.' in Y else 'dog' for Y in validation_dataset.loc[:, 0])\n",
    "\n",
    "train_Y_df.to_csv(os.path.join(\n",
    "    current_path, 'data/processed/train_Y.csv'\n",
    "), header=False, index=False, sep=';')\n",
    "\n",
    "\n",
    "validation_Y_df.to_csv(os.path.join(\n",
    "    current_path, 'data/processed/validation_Y.csv'\n",
    "), header=False, index=False, sep=';')\n",
    "\n"
   ]
  }
 ],
 "metadata": {
  "kernelspec": {
   "display_name": "Python 3",
   "language": "python",
   "name": "python3"
  },
  "language_info": {
   "codemirror_mode": {
    "name": "ipython",
    "version": 3
   },
   "file_extension": ".py",
   "mimetype": "text/x-python",
   "name": "python",
   "nbconvert_exporter": "python",
   "pygments_lexer": "ipython3",
   "version": "3.7.6"
  },
  "pycharm": {
   "stem_cell": {
    "cell_type": "raw",
    "source": [],
    "metadata": {
     "collapsed": false
    }
   }
  }
 },
 "nbformat": 4,
 "nbformat_minor": 1
}
